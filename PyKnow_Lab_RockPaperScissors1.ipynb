{
  "nbformat": 4,
  "nbformat_minor": 0,
  "metadata": {
    "colab": {
      "name": "PyKnow_Lab_RockPaperScissors.ipynb",
      "provenance": [],
      "collapsed_sections": []
    },
    "kernelspec": {
      "name": "python3",
      "display_name": "Python 3"
    }
  },
  "cells": [
    {
      "cell_type": "code",
      "metadata": {
        "id": "z5vVJL2pYCZ5",
        "colab_type": "code",
        "colab": {}
      },
      "source": [
        "!pip install https://github.com/buguroo/pyknow/archive/v1.7.0.tar.gz"
      ],
      "execution_count": 0,
      "outputs": []
    },
    {
      "cell_type": "code",
      "metadata": {
        "id": "dEmO_-Tuzgh7",
        "colab_type": "code",
        "colab": {}
      },
      "source": [
        "from pyknow import *\n",
        "import random"
      ],
      "execution_count": 0,
      "outputs": []
    },
    {
      "cell_type": "markdown",
      "metadata": {
        "id": "w_XIiG14UTjx",
        "colab_type": "text"
      },
      "source": [
        "# Classes"
      ]
    },
    {
      "cell_type": "markdown",
      "metadata": {
        "id": "24XibL6hUYCk",
        "colab_type": "text"
      },
      "source": [
        "## WinTotals"
      ]
    },
    {
      "cell_type": "code",
      "metadata": {
        "id": "4t0lsjKlUaUo",
        "colab_type": "code",
        "colab": {}
      },
      "source": [
        "class WinTotals(Fact):\n",
        "    human = Field(int, default=0)\n",
        "    computer = Field(int, default=0)\n",
        "    ties = Field(int, default=0)"
      ],
      "execution_count": 0,
      "outputs": []
    },
    {
      "cell_type": "markdown",
      "metadata": {
        "id": "JBTnFHgSUeHp",
        "colab_type": "text"
      },
      "source": [
        "## Results"
      ]
    },
    {
      "cell_type": "code",
      "metadata": {
        "id": "ZxvfODISUg_h",
        "colab_type": "code",
        "colab": {}
      },
      "source": [
        "class Results(Fact):\n",
        "    winner = Field(str, mandatory=True)\n",
        "    loser = Field(str, mandatory=True)\n",
        "    why = Field(str, mandatory=True)"
      ],
      "execution_count": 0,
      "outputs": []
    },
    {
      "cell_type": "markdown",
      "metadata": {
        "id": "a2egmwPEUlg6",
        "colab_type": "text"
      },
      "source": [
        "## ValidAnswer"
      ]
    },
    {
      "cell_type": "code",
      "metadata": {
        "id": "Np3zY2k3Unv5",
        "colab_type": "code",
        "colab": {}
      },
      "source": [
        "class ValidAnswer(Fact):\n",
        "    answer = Field(str, mandatory=True)\n",
        "    key = Field(str, mandatory=True)"
      ],
      "execution_count": 0,
      "outputs": []
    },
    {
      "cell_type": "markdown",
      "metadata": {
        "id": "C3UVVV3VVZ5t",
        "colab_type": "text"
      },
      "source": [
        "## Action, HumanChoice, ComputerChoice"
      ]
    },
    {
      "cell_type": "code",
      "metadata": {
        "id": "M-fDOX4dVeQJ",
        "colab_type": "code",
        "colab": {}
      },
      "source": [
        "class Action(Fact):\n",
        "    pass\n",
        "\n",
        "\n",
        "class HumanChoice(Fact):\n",
        "    pass\n",
        "\n",
        "\n",
        "class ComputerChoice(Fact):\n",
        "    pass"
      ],
      "execution_count": 0,
      "outputs": []
    },
    {
      "cell_type": "markdown",
      "metadata": {
        "id": "j_-ABPvOViAO",
        "colab_type": "text"
      },
      "source": [
        "## RockPaperScissors"
      ]
    },
    {
      "cell_type": "code",
      "metadata": {
        "id": "pg51bvnRBXKX",
        "colab_type": "code",
        "colab": {}
      },
      "source": [
        "# Subclass KnowledgeEngine\n",
        "# declaring facts: declare(Fact()) \n",
        "# retracting facts: retract(Fact())\n",
        "\n",
        "class RockPaperScissors(KnowledgeEngine):\n",
        "    \n",
        "    @DefFacts()\n",
        "    def game_rules(self):\n",
        "        \"\"\"Declare game rules and valid input keys for the user.\"\"\"\n",
        "        print('DefFacts: setting up game rules.')\n",
        "        self.valid_answers = dict()\n",
        "        \n",
        "        yield Results(winner='rock', loser='scissors', why='Rock smashes scissors')\n",
        "        yield Results(winner='paper', loser='rock', why='Paper covers rock')\n",
        "        yield Results(winner='scissors', loser='paper', why='Scissors cut paper')\n",
        "        yield ValidAnswer(answer='rock', key='r')\n",
        "        yield ValidAnswer(answer='paper', key='p')\n",
        "        yield ValidAnswer(answer='scissors', key='s')\n",
        "\n",
        "        print('All rules in place ...')\n",
        "\n",
        "  \n",
        "    \n",
        "    @Rule() \n",
        "    def startup(self):\n",
        "        print(\"Lets play a game!\")\n",
        "        print(\"You choose rock, paper, or scissors,\")\n",
        "        print(\"and I'll do the same.\")\n",
        "        self.declare(WinTotals(human=0, computer=0, ties=0))\n",
        "        self.declare(Action('get-human-move'))\n",
        "    \n",
        "    @Rule(NOT(Action()),\n",
        "          ValidAnswer(answer=MATCH.answer,\n",
        "                      key=MATCH.key))\n",
        "    def store_valid_answers(self, answer, key):\n",
        "        print('store_valid_answers', key, answer)\n",
        "        self.valid_answers[key] = answer\n",
        "\n",
        "    #\n",
        "    # HUMAN MOVE RULES\n",
        "    #\n",
        "    @Rule(Action('get-human-move'))\n",
        "    def get_human_move(self):\n",
        "        question = \", \".join(\n",
        "            \"{name} ({key})\".format(\n",
        "                name=a[1].title(), key=a[0].upper())\n",
        "            for a in self.valid_answers.items()) + '? '\n",
        "        res = input(question).lower()\n",
        "        self.declare(HumanChoice(res))\n",
        "    \n",
        "    @Rule(AS.f1 << HumanChoice(MATCH.choice),\n",
        "          ValidAnswer(answer=MATCH.answer,\n",
        "                      key=MATCH.choice),\n",
        "          AS.f2 << Action('get-human-move'))\n",
        "    def good_human_move(self, f1, f2, answer):\n",
        "        self.retract(f1)\n",
        "        self.retract(f2)\n",
        "        self.declare(HumanChoice(answer))\n",
        "        self.declare(Action('get-computer-move'))\n",
        "    \n",
        "    # retracting a rule from inference engine\n",
        "    # retract() Removes an existing fact from the factlis\n",
        "    @Rule(AS.f1 << HumanChoice(MATCH.choice),\n",
        "          NOT(ValidAnswer(key=MATCH.choice)),\n",
        "          AS.f2 << Action('get-human-move'))\n",
        "    def bad_human_move(self, f1, f2, choice):\n",
        "        print(\"Sorry %s is not a valid answer\" % choice)\n",
        "        self.retract(f1)\n",
        "        self.retract(f2)\n",
        "        self.declare(Action('get-human-move'))\n",
        "    \n",
        "    #\n",
        "    # COMPUTER MOVE RULES\n",
        "    #\n",
        "    @Rule(AS.f1 << Action('get-computer-move'))\n",
        "    def get_computer_move(self, f1):\n",
        "        choice = random.choice(list(self.valid_answers.values()))\n",
        "        self.retract(f1)\n",
        "        self.declare(ComputerChoice(choice))\n",
        "        self.declare(Action('determine-results'))\n",
        "\n",
        "    #\n",
        "    # WIN DETERMINATION RULES\n",
        "    #\n",
        "    @Rule(AS.f1 << Action('determine-results'),\n",
        "          AS.f2 << ComputerChoice(MATCH.cc),\n",
        "          AS.f3 << HumanChoice(MATCH.hc),\n",
        "          AS.w << WinTotals(computer=MATCH.cw),\n",
        "          Results(winner=MATCH.cc,\n",
        "                  loser=MATCH.hc,\n",
        "                  why=MATCH.explanation))\n",
        "    def computer_wins(self, f1, f2, f3, w, cw, explanation):\n",
        "        self.retract(f1)\n",
        "        self.retract(f2)\n",
        "        self.retract(f3)\n",
        "        self.modify(w, computer=cw + 1)\n",
        "        print(\"Computer wins!\", explanation)\n",
        "        self.declare(Action('determine-play-again'))\n",
        "        \n",
        "    @Rule(AS.f1 << Action('determine-results'),\n",
        "          AS.f2 << ComputerChoice(MATCH.cc),\n",
        "          AS.f3 << HumanChoice(MATCH.hc),\n",
        "          'w' << WinTotals(human=MATCH.hw),\n",
        "          Results(winner=MATCH.hc,\n",
        "                  loser=MATCH.cc,\n",
        "                  why=MATCH.explanation))\n",
        "    def humans_wins(self, f1, f2, f3, w, hw, explanation):\n",
        "        self.retract(f1)\n",
        "        self.retract(f2)\n",
        "        self.retract(f3)\n",
        "        self.modify(w, human=hw + 1)\n",
        "        print(\"You win!\", explanation)\n",
        "        self.declare(Action('determine-play-again'))\n",
        "        \n",
        "    @Rule(AS.f1 << Action('determine-results'),\n",
        "          AS.f2 << ComputerChoice(MATCH.cc),\n",
        "          AS.f3 << HumanChoice(MATCH.cc),\n",
        "          AS.w << WinTotals(ties=MATCH.nt))\n",
        "    def tie(self, f1, f2, f3, w, nt):\n",
        "        self.retract(f1)\n",
        "        self.retract(f2)\n",
        "        self.retract(f3)\n",
        "        self.modify(w, ties=nt + 1)\n",
        "        print(\"Tie! Ha-ha!\")\n",
        "        self.declare(Action('determine-play-again'))\n",
        "    \n",
        "    #\n",
        "    # PLAY AGAIN RULE\n",
        "    #\n",
        "    @Rule(AS.f1 << Action('determine-play-again'),\n",
        "          WinTotals(computer=MATCH.ct,\n",
        "                    human=MATCH.ht,\n",
        "                    ties=MATCH.tt))\n",
        "    def play_again(self, f1, ct, ht, tt):\n",
        "        self.retract(f1)\n",
        "        if not self.yes_or_no(\"Play again?\"):\n",
        "            print(\"You won\", ht, \"game(s).\")\n",
        "            print(\"Computer won\", ct, \"game(s).\")\n",
        "            print(\"We tied\", tt, \"game(s).\")\n",
        "            self.halt()\n",
        "        else:\n",
        "            self.declare(Action('get-human-move'))\n",
        "\n",
        "    def yes_or_no(self, question):\n",
        "        return input(question).upper().startswith('Y')"
      ],
      "execution_count": 0,
      "outputs": []
    },
    {
      "cell_type": "markdown",
      "metadata": {
        "id": "sZyQeSis6MEd",
        "colab_type": "text"
      },
      "source": [
        "# Play"
      ]
    },
    {
      "cell_type": "code",
      "metadata": {
        "id": "k50k3Lym2i04",
        "colab_type": "code",
        "colab": {}
      },
      "source": [
        "rps = RockPaperScissors()"
      ],
      "execution_count": 0,
      "outputs": []
    },
    {
      "cell_type": "code",
      "metadata": {
        "id": "LzVmMwp8Bigj",
        "colab_type": "code",
        "outputId": "3e46bc79-6825-49db-d428-bd5e6b8af80e",
        "colab": {
          "base_uri": "https://localhost:8080/",
          "height": 286
        }
      },
      "source": [
        "rps.reset()\n",
        "rps.run()"
      ],
      "execution_count": 0,
      "outputs": [
        {
          "output_type": "stream",
          "text": [
            "DefFacts: setting up game rules.\n",
            "All rules in place ...\n",
            "store_valid_answers s scissors\n",
            "store_valid_answers p paper\n",
            "store_valid_answers r rock\n",
            "Lets play a game!\n",
            "You choose rock, paper, or scissors,\n",
            "and I'll do the same.\n",
            "Scissors (S), Paper (P), Rock (R)? f\n",
            "Sorry f is not a valid answer\n",
            "Scissors (S), Paper (P), Rock (R)? r\n",
            "Computer wins! Paper covers rock\n",
            "Play again?n\n",
            "You won 0 game(s).\n",
            "Computer won 1 game(s).\n",
            "We tied 0 game(s).\n"
          ],
          "name": "stdout"
        }
      ]
    }
  ]
}